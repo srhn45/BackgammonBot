{
 "cells": [
  {
   "cell_type": "code",
   "execution_count": 1,
   "id": "52dea6f0",
   "metadata": {},
   "outputs": [],
   "source": [
    "import numpy as np\n",
    "import random\n",
    "import torch\n",
    "from backgammon import BackgammonBoard, Game\n",
    "from BackModel import ResidualBlock, BackModel\n",
    "from tqdm import tqdm\n",
    "import copy"
   ]
  },
  {
   "cell_type": "code",
   "execution_count": 2,
   "id": "848eb863",
   "metadata": {},
   "outputs": [],
   "source": [
    "class MCTSNode:\n",
    "    def __init__(self, state=Game, parent=None):\n",
    "        self.last_move = None\n",
    "        self.state = state\n",
    "        self.legal_moves = state.get_legal_moves()\n",
    "        self.parent = parent\n",
    "        self.children = []\n",
    "        self.visits = 0\n",
    "        self.wins = 0\n",
    "        self.prior = 0.0\n",
    "\n",
    "    def is_fully_expanded(self):\n",
    "        return len(self.children) == len(self.state.get_legal_moves())\n",
    "\n",
    "    def best_child(self, c_param=1.4):\n",
    "        if not self.children:\n",
    "            return None\n",
    "\n",
    "        total_visits = sum(child.visits for child in self.children)\n",
    "\n",
    "        scores = []\n",
    "        for child in self.children:\n",
    "            if child.visits > 0:\n",
    "                q_value = child.wins / child.visits\n",
    "            else:\n",
    "                q_value = 0\n",
    "            u_value = c_param * child.prior * np.sqrt(total_visits) / (1 + child.visits)\n",
    "            scores.append(q_value + u_value)\n",
    "\n",
    "        return self.children[np.argmax(scores)]\n",
    "\n",
    "    def expand(self, model, add_dirichlet_noise=False, eps=0.25, alpha=0.3):\n",
    "        model.to(\"cuda\")\n",
    "        move_probs, _ = model(self.state.get_input_matrix().to(\"cuda\").unsqueeze(0))\n",
    "        move_probs = torch.exp(move_probs).squeeze().detach().cpu().numpy()\n",
    "\n",
    "        legal_indices = []\n",
    "        for (start, end, die) in self.legal_moves:\n",
    "            idx = die - 1 if start == -1 else start * 6 + (die - 1)\n",
    "            legal_indices.append(idx)\n",
    "\n",
    "        probs = move_probs[legal_indices]\n",
    "        probs /= probs.sum()\n",
    "    \n",
    "        if add_dirichlet_noise and self.parent is None:\n",
    "            noise = np.random.dirichlet([alpha] * len(probs))\n",
    "            probs = (1 - eps) * probs + eps * noise\n",
    "\n",
    "        for move, prior in zip(self.legal_moves, probs):\n",
    "            new_state = copy.deepcopy(self.state)\n",
    "            new_state.play_one_move(*move)\n",
    "            child_node = MCTSNode(new_state, parent=self)\n",
    "            child_node.last_move = move\n",
    "            child_node.prior = prior\n",
    "            self.children.append(child_node)\n",
    "        \n",
    "        model.to(\"cpu\")\n",
    "\n",
    "    def update(self, result):\n",
    "        self.visits += 1\n",
    "        self.wins += result*self.state.current_player"
   ]
  },
  {
   "cell_type": "code",
   "execution_count": 3,
   "id": "13fb0078",
   "metadata": {},
   "outputs": [],
   "source": [
    "class MCTS_Searcher:\n",
    "    def __init__(self, model, n_simulations=1000):\n",
    "        self.model = model\n",
    "        self.n_simulations = n_simulations\n",
    "\n",
    "    def search(self, initial_state):\n",
    "        root = MCTSNode(initial_state)\n",
    "\n",
    "        for _ in range(self.n_simulations):\n",
    "            node = root\n",
    "            state = copy.deepcopy(initial_state)\n",
    "\n",
    "            while node.is_fully_expanded() and node.children:\n",
    "                node = node.best_child()\n",
    "                state = node.state\n",
    "\n",
    "            if not node.is_fully_expanded():\n",
    "                node.expand(self.model, add_dirichlet_noise=(node.parent is None))\n",
    "                node = random.choice(node.children)\n",
    "                state = node.state\n",
    "\n",
    "            result = self.simulate(state)\n",
    "\n",
    "            while node is not None:\n",
    "                node.update(result)\n",
    "                node = node.parent\n",
    "\n",
    "        best_child = root.best_child(c_param=0)\n",
    "        if best_child is None:\n",
    "            return root, root\n",
    "        return root, best_child\n",
    "\n",
    "    def simulate(self, state):\n",
    "        current_state = copy.deepcopy(state)\n",
    "        while current_state.check_game_over() == 0:\n",
    "            legal_moves = current_state.get_legal_moves()\n",
    "            if not legal_moves:\n",
    "                break\n",
    "            move_probs, value = self.model(current_state.get_input_matrix().unsqueeze(0))\n",
    "            move_probs = torch.exp(move_probs).squeeze().detach().numpy()\n",
    "\n",
    "            legal_indices = []\n",
    "            for (start, end, die) in legal_moves:\n",
    "                if start == -1:\n",
    "                    idx = die - 1  # bar move encoding\n",
    "                else:\n",
    "                    idx = start * 6 + (die - 1)\n",
    "                legal_indices.append(idx)\n",
    "\n",
    "            weights = move_probs[legal_indices]\n",
    "            weights /= weights.sum()\n",
    "\n",
    "            chosen_idx = np.random.choice(len(legal_moves), p=weights)  # index in legal_moves\n",
    "            start, end, die = legal_moves[chosen_idx]\n",
    "\n",
    "            \n",
    "            start, end, die = legal_moves[chosen_idx]\n",
    "            current_state.play_one_move(start, end, die)\n",
    "        return current_state.check_game_over()"
   ]
  },
  {
   "cell_type": "code",
   "execution_count": 4,
   "id": "6f991a32",
   "metadata": {},
   "outputs": [
    {
     "name": "stdout",
     "output_type": "stream",
     "text": [
      "Total parameters: 576401\n",
      "Trainable parameters: 576401\n"
     ]
    }
   ],
   "source": [
    "model = BackModel(num_resnets=2, num_skips=2)\n",
    "\n",
    "total_params = sum(p.numel() for p in model.parameters())\n",
    "trainable_params = sum(p.numel() for p in model.parameters() if p.requires_grad)\n",
    "\n",
    "print(f\"Total parameters: {total_params}\")\n",
    "print(f\"Trainable parameters: {trainable_params}\")"
   ]
  },
  {
   "cell_type": "code",
   "execution_count": null,
   "id": "32b3c2e8",
   "metadata": {},
   "outputs": [
    {
     "name": "stderr",
     "output_type": "stream",
     "text": [
      "100%|██████████| 300/300 [39:51<00:00,  7.97s/it]\n",
      "  0%|          | 0/1129 [00:00<?, ?it/s]C:\\Users\\takns\\AppData\\Local\\Temp\\ipykernel_5320\\166104135.py:44: UserWarning: Creating a tensor from a list of numpy.ndarrays is extremely slow. Please consider converting the list to a single numpy.ndarray with numpy.array() before converting to a tensor. (Triggered internally at C:\\actions-runner\\_work\\pytorch\\pytorch\\pytorch\\torch\\csrc\\utils\\tensor_new.cpp:257.)\n",
      "  states = torch.tensor(states, dtype=torch.float32)\n",
      "100%|██████████| 1129/1129 [00:12<00:00, 90.98it/s, loss=8.78]\n"
     ]
    },
    {
     "name": "stdout",
     "output_type": "stream",
     "text": [
      "Epoch 0, Average Loss: 4.24\n"
     ]
    },
    {
     "name": "stderr",
     "output_type": "stream",
     "text": [
      "100%|██████████| 300/300 [1:06:04<00:00, 13.22s/it]\n",
      "100%|██████████| 1150/1150 [00:13<00:00, 86.22it/s, loss=2.74]\n"
     ]
    },
    {
     "name": "stdout",
     "output_type": "stream",
     "text": [
      "Epoch 1, Average Loss: 2.96\n"
     ]
    },
    {
     "name": "stderr",
     "output_type": "stream",
     "text": [
      "100%|██████████| 300/300 [1:09:34<00:00, 13.92s/it]\n",
      "100%|██████████| 1154/1154 [00:13<00:00, 86.70it/s, loss=2.38]\n"
     ]
    },
    {
     "name": "stdout",
     "output_type": "stream",
     "text": [
      "Epoch 2, Average Loss: 2.63\n"
     ]
    },
    {
     "name": "stderr",
     "output_type": "stream",
     "text": [
      "100%|██████████| 300/300 [1:10:56<00:00, 14.19s/it]\n",
      "100%|██████████| 1156/1156 [00:14<00:00, 81.26it/s, loss=2.76]\n"
     ]
    },
    {
     "name": "stdout",
     "output_type": "stream",
     "text": [
      "Epoch 3, Average Loss: 2.17\n"
     ]
    },
    {
     "name": "stderr",
     "output_type": "stream",
     "text": [
      "100%|██████████| 300/300 [1:10:20<00:00, 14.07s/it]\n",
      "100%|██████████| 1115/1115 [00:12<00:00, 91.72it/s, loss=4.02]\n"
     ]
    },
    {
     "name": "stdout",
     "output_type": "stream",
     "text": [
      "Epoch 4, Average Loss: 2.01\n"
     ]
    },
    {
     "name": "stderr",
     "output_type": "stream",
     "text": [
      "100%|██████████| 300/300 [1:10:31<00:00, 14.11s/it]\n",
      "100%|██████████| 1155/1155 [00:12<00:00, 91.71it/s, loss=1.33]\n"
     ]
    },
    {
     "name": "stdout",
     "output_type": "stream",
     "text": [
      "Epoch 5, Average Loss: 1.92\n"
     ]
    },
    {
     "name": "stderr",
     "output_type": "stream",
     "text": [
      "100%|██████████| 300/300 [1:10:54<00:00, 14.18s/it]\n",
      "100%|██████████| 1152/1152 [00:12<00:00, 91.58it/s, loss=3.5] \n"
     ]
    },
    {
     "name": "stdout",
     "output_type": "stream",
     "text": [
      "Epoch 6, Average Loss: 1.82\n"
     ]
    },
    {
     "name": "stderr",
     "output_type": "stream",
     "text": [
      "100%|██████████| 300/300 [1:13:46<00:00, 14.75s/it]\n",
      "100%|██████████| 1135/1135 [00:13<00:00, 85.33it/s, loss=1.62]\n"
     ]
    },
    {
     "name": "stdout",
     "output_type": "stream",
     "text": [
      "Epoch 7, Average Loss: 1.78\n"
     ]
    },
    {
     "name": "stderr",
     "output_type": "stream",
     "text": [
      "100%|██████████| 300/300 [1:16:09<00:00, 15.23s/it]\n",
      "100%|██████████| 1148/1148 [00:13<00:00, 85.33it/s, loss=1.76]\n"
     ]
    },
    {
     "name": "stdout",
     "output_type": "stream",
     "text": [
      "Epoch 8, Average Loss: 1.83\n"
     ]
    },
    {
     "name": "stderr",
     "output_type": "stream",
     "text": [
      "100%|██████████| 300/300 [1:16:36<00:00, 15.32s/it]\n",
      "100%|██████████| 1150/1150 [00:13<00:00, 85.52it/s, loss=1.8] \n"
     ]
    },
    {
     "name": "stdout",
     "output_type": "stream",
     "text": [
      "Epoch 9, Average Loss: 1.74\n"
     ]
    },
    {
     "name": "stderr",
     "output_type": "stream",
     "text": [
      "100%|██████████| 300/300 [1:18:13<00:00, 15.65s/it]\n",
      "100%|██████████| 1134/1134 [00:13<00:00, 85.64it/s, loss=2.16]\n"
     ]
    },
    {
     "name": "stdout",
     "output_type": "stream",
     "text": [
      "Epoch 10, Average Loss: 1.67\n"
     ]
    },
    {
     "name": "stderr",
     "output_type": "stream",
     "text": [
      "100%|██████████| 300/300 [1:18:20<00:00, 15.67s/it]\n",
      "100%|██████████| 1156/1156 [00:13<00:00, 85.35it/s, loss=1.53]\n"
     ]
    },
    {
     "name": "stdout",
     "output_type": "stream",
     "text": [
      "Epoch 11, Average Loss: 1.72\n"
     ]
    },
    {
     "name": "stderr",
     "output_type": "stream",
     "text": [
      "100%|██████████| 300/300 [1:19:23<00:00, 15.88s/it]\n",
      "100%|██████████| 1151/1151 [00:13<00:00, 88.21it/s, loss=1.5] \n"
     ]
    },
    {
     "name": "stdout",
     "output_type": "stream",
     "text": [
      "Epoch 12, Average Loss: 1.71\n"
     ]
    },
    {
     "name": "stderr",
     "output_type": "stream",
     "text": [
      "100%|██████████| 300/300 [1:21:11<00:00, 16.24s/it]\n",
      "100%|██████████| 1147/1147 [00:13<00:00, 88.13it/s, loss=2.19]\n"
     ]
    },
    {
     "name": "stdout",
     "output_type": "stream",
     "text": [
      "Epoch 13, Average Loss: 1.64\n"
     ]
    },
    {
     "name": "stderr",
     "output_type": "stream",
     "text": [
      " 61%|██████    | 182/300 [50:15<35:51, 18.23s/it] "
     ]
    }
   ],
   "source": [
    "#model.load_state_dict(torch.load(\"model.pth\"))\n",
    "optimizer = torch.optim.AdamW(model.parameters(), lr=0.001)\n",
    "scheduler = torch.optim.lr_scheduler.StepLR(optimizer, step_size=100, gamma=0.999)\n",
    "searcher = MCTS_Searcher(model=model, n_simulations=100)\n",
    "\n",
    "for epoch in range(1000):\n",
    "    buffer = []\n",
    "\n",
    "    loader = tqdm(range(0, 300))\n",
    "    for i in loader:\n",
    "        positions = []\n",
    "        backgame = Game()\n",
    "        while backgame.check_game_over() == 0:\n",
    "            model.eval()\n",
    "            root, next_board = searcher.search(backgame)\n",
    "\n",
    "            if root == next_board:\n",
    "                next_board.state.switch_player()\n",
    "\n",
    "            else:\n",
    "                board_state = np.array(root.state.get_input_matrix())\n",
    "                probas = np.zeros(24*6)\n",
    "                for child in root.children:\n",
    "                    if child.last_move is not None:\n",
    "                        start, end, die = child.last_move\n",
    "                        index = start * 6 + (die - 1)\n",
    "                        probas[index] = child.visits\n",
    "                probas /= probas.sum()\n",
    "                positions.append((board_state, probas, None))\n",
    "\n",
    "            backgame = next_board.state\n",
    "        positions = [(s, p, backgame.check_game_over()) for (s, p, v) in positions]\n",
    "        buffer.extend(positions)\n",
    "\n",
    "    random.shuffle(buffer)\n",
    "\n",
    "    loader = tqdm(range(0, len(buffer), 32))\n",
    "    model.train()\n",
    "    total_loss = 0.0\n",
    "    for idx, i in enumerate(loader, start=1):\n",
    "        batch = buffer[i:i+32]\n",
    "\n",
    "        states, target_probs, target_values = zip(*batch)\n",
    "        states = torch.tensor(states, dtype=torch.float32)\n",
    "        target_probs = torch.tensor(target_probs, dtype=torch.float32)\n",
    "        target_values = torch.tensor(target_values, dtype=torch.float32)\n",
    "\n",
    "        pred_probs, pred_values = model(states)\n",
    "        value_loss = torch.nn.functional.mse_loss(pred_values.squeeze(), target_values)\n",
    "        policy_loss = -torch.mean(torch.sum(target_probs * pred_probs, dim=1))\n",
    "        loss = value_loss + policy_loss\n",
    "\n",
    "        optimizer.zero_grad()\n",
    "        loss.backward()\n",
    "        optimizer.step()\n",
    "\n",
    "        total_loss += loss.item()\n",
    "\n",
    "\n",
    "        loader.set_postfix(loss=loss.item())\n",
    "\n",
    "    avg_loss = total_loss / idx\n",
    "    scheduler.step()\n",
    "    print(f\"Epoch {epoch}, Average Loss: {avg_loss:.2f}\")\n",
    "    torch.save(model.state_dict(), \"model.pth\")"
   ]
  },
  {
   "cell_type": "code",
   "execution_count": 7,
   "id": "ca0695ea",
   "metadata": {},
   "outputs": [
    {
     "name": "stdout",
     "output_type": "stream",
     "text": [
      "Game over! Winner is Player -1.\n",
      "          Top (Points 13-24)\n",
      " 0  0  0  1  0  0  1  3  0  1  0  4\n",
      "-----------------------------------\n",
      " 3  1  0  0  0  0  1  0  0  0  0  0\n",
      "        Bottom (Points 12-1)\n",
      "Player 1 pieces broken and borne off: (0, 0)\n",
      "Player 2 pieces broken and borne off: (0, 15)\n"
     ]
    }
   ],
   "source": [
    "NewGame = Game()\n",
    "\n",
    "NewGame.roll_dice()\n",
    "while not NewGame.game_over:\n",
    "    #NewGame.board.display()\n",
    "    #print(f\"Player 1 pieces broken and borne off: {NewGame.broken_pieces[1], NewGame.collected_pieces[1]}\")\n",
    "    #print(f\"Player 2 pieces broken and borne off: {NewGame.broken_pieces[-1], NewGame.collected_pieces[-1]}\")\n",
    "    try:\n",
    "        NewGame.get_legal_moves()\n",
    "\n",
    "        #move = input(f\"Player {NewGame.current_player}, enter your move \\n(start-1)*6 + (die-1) \\n(Current dice: {NewGame.dice}): \\nPress f to quit.\")\n",
    "        #if move == \"f\":\n",
    "        #    print(\"Game ended by user.\")\n",
    "        #    break\n",
    "        # start, end, die = NewGame.move_translator(int(move))\n",
    "\n",
    "        try:\n",
    "            (start, end, die) = random.choice(NewGame.legal_moves)\n",
    "            #print(f\"Translated move: {start+1} to {end+1} using die {die}\")\n",
    "            NewGame.play_one_move(start, end, die)\n",
    "        except IndexError:\n",
    "            #print(f\"No legal moves available for Player {NewGame.current_player}. Switching turn.\")\n",
    "            NewGame.switch_player()\n",
    "            continue\n",
    "\n",
    "\n",
    "    except ValueError as ve:\n",
    "        print(f\"Try again. {ve}\")\n",
    "    \n",
    "    if np.abs(NewGame.board.board).sum() + sum(NewGame.broken_pieces.values()) + sum(NewGame.collected_pieces.values()) != 30:\n",
    "        raise ValueError(\"Game state invalid. Sum of pieces not 30.\")\n",
    "    \n",
    "    NewGame.check_game_over()\n",
    "\n",
    "print(f\"Game over! Winner is Player {NewGame.check_game_over()}.\")\n",
    "NewGame.board.display()\n",
    "print(f\"Player 1 pieces broken and borne off: {NewGame.broken_pieces[1], NewGame.collected_pieces[1]}\")\n",
    "print(f\"Player 2 pieces broken and borne off: {NewGame.broken_pieces[-1], NewGame.collected_pieces[-1]}\")"
   ]
  }
 ],
 "metadata": {
  "kernelspec": {
   "display_name": "base",
   "language": "python",
   "name": "python3"
  },
  "language_info": {
   "codemirror_mode": {
    "name": "ipython",
    "version": 3
   },
   "file_extension": ".py",
   "mimetype": "text/x-python",
   "name": "python",
   "nbconvert_exporter": "python",
   "pygments_lexer": "ipython3",
   "version": "3.12.7"
  }
 },
 "nbformat": 4,
 "nbformat_minor": 5
}
